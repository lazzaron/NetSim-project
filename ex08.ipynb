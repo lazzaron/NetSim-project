{
  "nbformat": 4,
  "nbformat_minor": 0,
  "metadata": {
    "kernelspec": {
      "display_name": "Python 3",
      "language": "python",
      "name": "python3"
    },
    "language_info": {
      "codemirror_mode": {
        "name": "ipython",
        "version": 3
      },
      "file_extension": ".py",
      "mimetype": "text/x-python",
      "name": "python",
      "nbconvert_exporter": "python",
      "pygments_lexer": "ipython3",
      "version": "3.8.3"
    },
    "colab": {
      "name": "ex08.ipynb",
      "provenance": [],
      "collapsed_sections": [],
      "include_colab_link": true
    }
  },
  "cells": [
    {
      "cell_type": "markdown",
      "metadata": {
        "id": "view-in-github",
        "colab_type": "text"
      },
      "source": [
        "<a href=\"https://colab.research.google.com/github/lazzaron/NetSim-project/blob/master/ex08.ipynb\" target=\"_parent\"><img src=\"https://colab.research.google.com/assets/colab-badge.svg\" alt=\"Open In Colab\"/></a>"
      ]
    },
    {
      "cell_type": "code",
      "metadata": {
        "id": "F68kwikrk9FK"
      },
      "source": [
        "# Useful starting lines\n",
        "%matplotlib inline\n",
        "import numpy as np\n",
        "import matplotlib.pyplot as plt\n",
        "import torch\n",
        "import torch.nn as nn\n",
        "from torch.autograd import Variable\n",
        "%load_ext autoreload\n",
        "%autoreload 2"
      ],
      "execution_count": null,
      "outputs": []
    },
    {
      "cell_type": "code",
      "metadata": {
        "id": "eL6foZ1Zk9FZ"
      },
      "source": [
        "# Defining a toy dataset\n",
        "x_train = np.array([[3.3], [4.4], [5.5], [6.71], [6.93], [4.168], \n",
        "                    [9.779], [6.182], [7.59], [2.167], [7.042], \n",
        "                    [10.791], [5.313], [7.997], [3.1]], dtype=np.float32)\n",
        "\n",
        "y_train = np.array([[1.7], [2.76], [2.09], [3.19], [1.694], [1.573], \n",
        "                    [3.366], [2.596], [2.53], [1.221], [2.827], \n",
        "                        [3.465], [1.65], [2.904], [1.3]], dtype=np.float32)"
      ],
      "execution_count": null,
      "outputs": []
    },
    {
      "cell_type": "markdown",
      "metadata": {
        "id": "PTNnNQHIk9Fh"
      },
      "source": [
        "## Linear regression"
      ]
    },
    {
      "cell_type": "code",
      "metadata": {
        "id": "g6VVNMZ-k9Fi",
        "outputId": "b3ef98d9-8ec7-42c9-9732-b23e4b8eb627",
        "colab": {
          "base_uri": "https://localhost:8080/"
        }
      },
      "source": [
        "class MyLinearRegression:\n",
        "    def __init__(self):\n",
        "        # TODO: Define the parameters of the model (weights and biases)\n",
        "        dtype = torch.float\n",
        "        device = torch.device(\"cpu\")\n",
        "\n",
        "        self.w = torch.tensor([1], device=device, dtype=dtype, requires_grad=True)\n",
        "        self.b = torch.tensor([1], device=device, dtype=dtype, requires_grad=True)\n",
        "    \n",
        "    def forward(self, x):\n",
        "        # TODO: implement forward computation - compute predictions based on the inputs\n",
        "        return x*(self.w)+self.b\n",
        "        return y_pred\n",
        "    def parameters(self):\n",
        "        # TODO: this function should return a list of parameters of the model\n",
        "        return [self.w,self.b]\n",
        "    \n",
        "    def __call__(self, x):\n",
        "        # Convenience function\n",
        "        return self.forward(x)\n",
        "    \n",
        "\n",
        "def mselossfunc(pred, y):\n",
        "    # TODO: implement the MSE loss function\n",
        "    return (y-pred).pow(2).sum()\n",
        "\n",
        "model = MyLinearRegression()\n",
        "numpy_inputs = np.asarray([0.0, 1.0, 2.0], dtype=np.float32)\n",
        "torch_inputs = torch.from_numpy(numpy_inputs)\n",
        "torch_outputs = model(torch_inputs)\n",
        "print(\"Testing model: an input of %s gives a prediction:\\n %s\" % (numpy_inputs, torch_outputs))"
      ],
      "execution_count": null,
      "outputs": [
        {
          "output_type": "stream",
          "text": [
            "Testing model: an input of [0. 1. 2.] gives a prediction:\n",
            " tensor([1., 2., 3.], grad_fn=<AddBackward0>)\n"
          ],
          "name": "stdout"
        }
      ]
    },
    {
      "cell_type": "code",
      "metadata": {
        "id": "tANq53V1k9Fl"
      },
      "source": [
        "def train(features, labels, model, lossfunc, optimizer, num_epoch):\n",
        "\n",
        "    for epoch in range(num_epoch):\n",
        "        # TODO: Step 1 - create torch variables corresponding to features and labels\n",
        "        x=torch.from_numpy(features)\n",
        "        y=torch.from_numpy(labels)\n",
        "\n",
        "        # TODO: Step 2 - compute model predictions and loss\n",
        "        model = MyLinearRegression()\n",
        "        pred = model.forward(x)\n",
        "        parameter=model.parameters()\n",
        "        loss=mselossfunc(pred, y)\n",
        "       \n",
        "        # TODO: Step 3 - do a backward pass and a gradient update step\n",
        "        \n",
        "        \n",
        "        if epoch % 10 == 0:\n",
        "            print ('Epoch [%d/%d], Loss: %.4f' %(epoch+1, num_epoch, loss.item()))\n",
        "\n",
        "        loss.backward()\n",
        "        \n",
        "        with torch.no_grad():\n",
        "          model.w -= 1e-6 * model.w.grad\n",
        "        # Manually zero the gradients after updating weights\n",
        "          model.w.grad.zero_()\n",
        "          \n",
        "        \n",
        "def visualize(x_train, y_train, model):\n",
        "    # A convenience function for visualizing predictions given by the model\n",
        "\n",
        "    predicted = model(torch.from_numpy(x_train)).data.numpy()\n",
        "    order = np.argsort(x_train, axis=0)\n",
        "    plt.plot(x_train[order].flatten(), y_train[order].flatten(), 'ro', label='Original data')\n",
        "    plt.plot(x_train[order].flatten(), predicted[order].flatten(), label='Fitted line')\n",
        "    plt.legend()\n",
        "    plt.show()"
      ],
      "execution_count": null,
      "outputs": []
    },
    {
      "cell_type": "code",
      "metadata": {
        "id": "3VZZrZQMk9Fo",
        "outputId": "db9f1f78-962a-4256-bb25-80d21aaea702",
        "colab": {
          "base_uri": "https://localhost:8080/",
          "height": 787
        }
      },
      "source": [
        "# Training and visualizing predictions made by linear regression model\n",
        "optimizer = torch.optim.SGD(model.parameters(), lr=1e-3)\n",
        "\n",
        "train(features=x_train,\n",
        "      labels=y_train,\n",
        "      model=model,\n",
        "      lossfunc=mselossfunc, \n",
        "      optimizer=optimizer,\n",
        "      num_epoch=300)\n",
        "visualize(x_train, y_train, model)"
      ],
      "execution_count": null,
      "outputs": [
        {
          "output_type": "stream",
          "text": [
            "Epoch [1/300], Loss: 385.1410\n",
            "Epoch [11/300], Loss: 385.1410\n",
            "Epoch [21/300], Loss: 385.1410\n",
            "Epoch [31/300], Loss: 385.1410\n",
            "Epoch [41/300], Loss: 385.1410\n",
            "Epoch [51/300], Loss: 385.1410\n",
            "Epoch [61/300], Loss: 385.1410\n",
            "Epoch [71/300], Loss: 385.1410\n",
            "Epoch [81/300], Loss: 385.1410\n",
            "Epoch [91/300], Loss: 385.1410\n",
            "Epoch [101/300], Loss: 385.1410\n",
            "Epoch [111/300], Loss: 385.1410\n",
            "Epoch [121/300], Loss: 385.1410\n",
            "Epoch [131/300], Loss: 385.1410\n",
            "Epoch [141/300], Loss: 385.1410\n",
            "Epoch [151/300], Loss: 385.1410\n",
            "Epoch [161/300], Loss: 385.1410\n",
            "Epoch [171/300], Loss: 385.1410\n",
            "Epoch [181/300], Loss: 385.1410\n",
            "Epoch [191/300], Loss: 385.1410\n",
            "Epoch [201/300], Loss: 385.1410\n",
            "Epoch [211/300], Loss: 385.1410\n",
            "Epoch [221/300], Loss: 385.1410\n",
            "Epoch [231/300], Loss: 385.1410\n",
            "Epoch [241/300], Loss: 385.1410\n",
            "Epoch [251/300], Loss: 385.1410\n",
            "Epoch [261/300], Loss: 385.1410\n",
            "Epoch [271/300], Loss: 385.1410\n",
            "Epoch [281/300], Loss: 385.1410\n",
            "Epoch [291/300], Loss: 385.1410\n"
          ],
          "name": "stdout"
        },
        {
          "output_type": "display_data",
          "data": {
            "image/png": "[encoded data removed]",
            "text/plain": [
              "<Figure size 432x288 with 1 Axes>"
            ]
          },
          "metadata": {
            "tags": [],
            "needs_background": "light"
          }
        }
      ]
    },
    {
      "cell_type": "markdown",
      "metadata": {
        "id": "HjFKL2N1k9Fs"
      },
      "source": [
        "## Linear Regression (using nn package)"
      ]
    },
    {
      "cell_type": "code",
      "metadata": {
        "id": "Zsw-HbOFk9Ft"
      },
      "source": [
        "class NNLinearRegression(nn.Module):\n",
        "    def __init__(self):\n",
        "        super(NNLinearRegression, self).__init__()\n",
        "        # TODO: Define the parameters of the model (linear nn layer)\n",
        "        raise NotImplementedError\n",
        "    \n",
        "    def forward(self, x):\n",
        "        # TODO: implement forward computation\n",
        "        raise NotImplementedError\n",
        "    \n",
        "# Training and visualizing predictions made by linear regression model (nn package)\n",
        "# TODO: use loss function from nn package\n",
        "lossfunc = ...\n",
        "\n",
        "model = NNLinearRegression()\n",
        "\n",
        "optimizer = torch.optim.SGD(model.parameters(), lr=1e-3)\n",
        "\n",
        "train(features=x_train,\n",
        "      labels=y_train,\n",
        "      model=model,\n",
        "      lossfunc=lossfunc,\n",
        "      optimizer=optimizer,\n",
        "      num_epoch=100)\n",
        "visualize(x_train, y_train, model)"
      ],
      "execution_count": null,
      "outputs": []
    },
    {
      "cell_type": "markdown",
      "metadata": {
        "id": "eVHTQK5Fk9Fv"
      },
      "source": [
        "## MLP"
      ]
    },
    {
      "cell_type": "code",
      "metadata": {
        "id": "knLddyRhk9Fv"
      },
      "source": [
        "class MLP(nn.Module):\n",
        "    def __init__(self, hidden_size):\n",
        "        super(MLP, self).__init__()\n",
        "        # TODO: Define parameters / layers of a multi-layered perceptron with one hidden layer\n",
        "        raise NotImplementedError\n",
        "    \n",
        "    def forward(self, x):\n",
        "        raise NotImplementedError\n",
        "    \n",
        "# TODO: Play with learning rate, hidden size, and optimizer type for multi-layered perceptron\n",
        "hidden_size = ...\n",
        "learning_rate = ...\n",
        "\n",
        "model = MLP(hidden_size=hidden_size)\n",
        "\n",
        "optimizer = ...\n",
        "\n",
        "train(features=x_train,\n",
        "      labels=y_train,\n",
        "      model=model,\n",
        "      lossfunc=lossfunc,\n",
        "      optimizer=optimizer,\n",
        "      num_epoch=300)\n",
        "visualize(x_train, y_train, model)"
      ],
      "execution_count": null,
      "outputs": []
    },
    {
      "cell_type": "code",
      "metadata": {
        "id": "M80k-qOik9Fy"
      },
      "source": [
        ""
      ],
      "execution_count": null,
      "outputs": []
    }
  ]
}